{
 "cells": [
  {
   "cell_type": "code",
   "execution_count": 1,
   "id": "f7dc9104",
   "metadata": {},
   "outputs": [],
   "source": [
    "import sqlite3"
   ]
  },
  {
   "cell_type": "code",
   "execution_count": 2,
   "id": "b25e8ff0",
   "metadata": {},
   "outputs": [
    {
     "data": {
      "text/plain": [
       "<sqlite3.Cursor at 0x20cea1a8ab0>"
      ]
     },
     "execution_count": 2,
     "metadata": {},
     "output_type": "execute_result"
    }
   ],
   "source": [
    "# Create SQLite database connection\n",
    "conn = sqlite3.connect(':memory:')\n",
    "cur = conn.cursor()\n",
    "\n",
    "# Create tables for e-commerce transactions and products\n",
    "cur.execute('''CREATE TABLE transactions (\n",
    "                transaction_id INTEGER PRIMARY KEY,\n",
    "                customer_id INTEGER,\n",
    "                timestamp TEXT,\n",
    "                product_id INTEGER,\n",
    "                product_category TEXT,\n",
    "                unit_price REAL,\n",
    "                quantity INTEGER,\n",
    "                total_price REAL\n",
    "                )''')\n",
    "\n",
    "cur.execute('''CREATE TABLE products (\n",
    "                product_id INTEGER PRIMARY KEY,\n",
    "                product_name TEXT\n",
    "                )''')"
   ]
  },
  {
   "cell_type": "code",
   "execution_count": 3,
   "id": "a4653443",
   "metadata": {},
   "outputs": [
    {
     "data": {
      "text/plain": [
       "<sqlite3.Cursor at 0x20cea1a8ab0>"
      ]
     },
     "execution_count": 3,
     "metadata": {},
     "output_type": "execute_result"
    }
   ],
   "source": [
    "# Generate synthetic data for transactions\n",
    "num_transactions = 1000\n",
    "transaction_data = [(i+1, 1000+i+1, '2024-03-01 10:00:00', i%20+1, 'Category{}'.format(i%5+1), round((i+1)*10.5, 2), i%5+1, round((i+1)*10.5*(i%5+1), 2)) for i in range(num_transactions)]\n",
    "\n",
    "# Insert data into the transactions table\n",
    "cur.executemany('''INSERT INTO transactions (transaction_id, customer_id, timestamp, product_id, product_category, unit_price, quantity, total_price)\n",
    "                VALUES (?, ?, ?, ?, ?, ?, ?, ?)''', transaction_data)\n",
    "\n",
    "# Generate synthetic data for products\n",
    "num_products = 20\n",
    "product_data = [(i+1, 'Product{}'.format(i+1)) for i in range(num_products)]\n",
    "\n",
    "# Insert data into the products table\n",
    "cur.executemany('''INSERT INTO products (product_id, product_name)\n",
    "                VALUES (?, ?)''', product_data)"
   ]
  },
  {
   "cell_type": "code",
   "execution_count": 4,
   "id": "ff73973a",
   "metadata": {},
   "outputs": [
    {
     "name": "stdout",
     "output_type": "stream",
     "text": [
      "Task 1: Data Retrieval\n",
      "[(1, 1001, '2024-03-01 10:00:00', 1, 'Category1', 10.5, 1, 10.5), (2, 1002, '2024-03-01 10:00:00', 2, 'Category2', 21.0, 2, 42.0), (3, 1003, '2024-03-01 10:00:00', 3, 'Category3', 31.5, 3, 94.5), (4, 1004, '2024-03-01 10:00:00', 4, 'Category4', 42.0, 4, 168.0), (5, 1005, '2024-03-01 10:00:00', 5, 'Category5', 52.5, 5, 262.5)]\n"
     ]
    }
   ],
   "source": [
    "# Task 1: Data Retrieval\n",
    "cur.execute('''SELECT * FROM transactions LIMIT 5''')\n",
    "print(\"Task 1: Data Retrieval\")\n",
    "print(cur.fetchall())"
   ]
  },
  {
   "cell_type": "code",
   "execution_count": 5,
   "id": "625f740f",
   "metadata": {},
   "outputs": [
    {
     "name": "stdout",
     "output_type": "stream",
     "text": [
      "\n",
      "Task 2: Data Aggregation\n",
      "[('Category5', 5276250.0), ('Category4', 4212600.0), ('Category3', 3153150.0), ('Category2', 2097900.0), ('Category1', 1046850.0)]\n"
     ]
    }
   ],
   "source": [
    "# Task 2: Data Aggregation\n",
    "cur.execute('''SELECT product_category, SUM(total_price) AS total_revenue\n",
    "               FROM transactions\n",
    "               GROUP BY product_category\n",
    "               ORDER BY total_revenue DESC''')\n",
    "print(\"\\nTask 2: Data Aggregation\")\n",
    "print(cur.fetchall())"
   ]
  },
  {
   "cell_type": "code",
   "execution_count": 6,
   "id": "7ffc7844",
   "metadata": {},
   "outputs": [
    {
     "name": "stdout",
     "output_type": "stream",
     "text": [
      "\n",
      "Task 3: Filtering\n",
      "[(10, 1010, '2024-03-01 10:00:00', 10, 'Category5', 105.0, 5, 525.0), (11, 1011, '2024-03-01 10:00:00', 11, 'Category1', 115.5, 1, 115.5), (12, 1012, '2024-03-01 10:00:00', 12, 'Category2', 126.0, 2, 252.0), (13, 1013, '2024-03-01 10:00:00', 13, 'Category3', 136.5, 3, 409.5), (14, 1014, '2024-03-01 10:00:00', 14, 'Category4', 147.0, 4, 588.0)]\n"
     ]
    }
   ],
   "source": [
    "# Task 3: Filtering\n",
    "cur.execute('''SELECT * FROM transactions WHERE unit_price > 100 LIMIT 5''')\n",
    "print(\"\\nTask 3: Filtering\")\n",
    "print(cur.fetchall())"
   ]
  },
  {
   "cell_type": "code",
   "execution_count": 7,
   "id": "44fafb72",
   "metadata": {},
   "outputs": [
    {
     "name": "stdout",
     "output_type": "stream",
     "text": [
      "\n",
      "Task 4: Joins\n",
      "[(1, 1001, '2024-03-01 10:00:00', 1, 'Category1', 10.5, 1, 10.5, 'Product1'), (2, 1002, '2024-03-01 10:00:00', 2, 'Category2', 21.0, 2, 42.0, 'Product2'), (3, 1003, '2024-03-01 10:00:00', 3, 'Category3', 31.5, 3, 94.5, 'Product3'), (4, 1004, '2024-03-01 10:00:00', 4, 'Category4', 42.0, 4, 168.0, 'Product4'), (5, 1005, '2024-03-01 10:00:00', 5, 'Category5', 52.5, 5, 262.5, 'Product5')]\n"
     ]
    }
   ],
   "source": [
    "# Task 4: Joins\n",
    "cur.execute('''SELECT t.*, p.product_name\n",
    "               FROM transactions t\n",
    "               INNER JOIN products p ON t.product_id = p.product_id\n",
    "               LIMIT 5''')\n",
    "print(\"\\nTask 4: Joins\")\n",
    "print(cur.fetchall())"
   ]
  },
  {
   "cell_type": "code",
   "execution_count": 8,
   "id": "ba8dc817",
   "metadata": {},
   "outputs": [
    {
     "name": "stdout",
     "output_type": "stream",
     "text": [
      "\n",
      "Task 5: Subqueries\n",
      "[(4, 1004, '2024-03-01 10:00:00', 4, 'Category4', 42.0, 4, 168.0), (5, 1005, '2024-03-01 10:00:00', 5, 'Category5', 52.5, 5, 262.5), (9, 1009, '2024-03-01 10:00:00', 9, 'Category4', 94.5, 4, 378.0), (10, 1010, '2024-03-01 10:00:00', 10, 'Category5', 105.0, 5, 525.0), (14, 1014, '2024-03-01 10:00:00', 14, 'Category4', 147.0, 4, 588.0)]\n"
     ]
    }
   ],
   "source": [
    "# Task 5: Subqueries\n",
    "cur.execute('''SELECT *\n",
    "               FROM transactions\n",
    "               WHERE transaction_id IN (SELECT transaction_id FROM transactions WHERE quantity > 3)\n",
    "               LIMIT 5''')\n",
    "print(\"\\nTask 5: Subqueries\")\n",
    "print(cur.fetchall())"
   ]
  },
  {
   "cell_type": "code",
   "execution_count": 9,
   "id": "56321914",
   "metadata": {},
   "outputs": [
    {
     "name": "stdout",
     "output_type": "stream",
     "text": [
      "\n",
      "Task 6: Data Modification\n",
      "[(1, 1001, '2024-03-01 10:00:00', 1, 'Category1', 10.5, 1, 11.55), (2, 1002, '2024-03-01 10:00:00', 2, 'Category2', 21.0, 2, 46.2), (3, 1003, '2024-03-01 10:00:00', 3, 'Category3', 31.5, 3, 103.95), (4, 1004, '2024-03-01 10:00:00', 4, 'Category4', 42.0, 4, 184.8), (5, 1005, '2024-03-01 10:00:00', 5, 'Category5', 52.5, 5, 288.75), (6, 1006, '2024-03-01 10:00:00', 6, 'Category1', 63.0, 1, 69.30000000000001), (7, 1007, '2024-03-01 10:00:00', 7, 'Category2', 73.5, 2, 161.70000000000002), (8, 1008, '2024-03-01 10:00:00', 8, 'Category3', 84.0, 3, 277.20000000000005), (9, 1009, '2024-03-01 10:00:00', 9, 'Category4', 94.5, 4, 415.8), (10, 1010, '2024-03-01 10:00:00', 10, 'Category5', 105.0, 5, 577.5)]\n"
     ]
    }
   ],
   "source": [
    "# Task 6: Data Modification\n",
    "cur.execute('''UPDATE transactions SET total_price = total_price * 1.1 WHERE transaction_id <= 10''')\n",
    "cur.execute('''SELECT * FROM transactions WHERE transaction_id <= 10''')\n",
    "print(\"\\nTask 6: Data Modification\")\n",
    "print(cur.fetchall())"
   ]
  },
  {
   "cell_type": "code",
   "execution_count": 10,
   "id": "d80fe6e7",
   "metadata": {},
   "outputs": [],
   "source": [
    "# Close the connection\n",
    "conn.close()"
   ]
  }
 ],
 "metadata": {
  "kernelspec": {
   "display_name": "Python 3 (ipykernel)",
   "language": "python",
   "name": "python3"
  },
  "language_info": {
   "codemirror_mode": {
    "name": "ipython",
    "version": 3
   },
   "file_extension": ".py",
   "mimetype": "text/x-python",
   "name": "python",
   "nbconvert_exporter": "python",
   "pygments_lexer": "ipython3",
   "version": "3.9.7"
  }
 },
 "nbformat": 4,
 "nbformat_minor": 5
}
